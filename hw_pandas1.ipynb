{
 "cells": [
  {
   "cell_type": "markdown",
   "metadata": {},
   "source": [
    "# Задание 1\n",
    "Скачайте с сайта https://grouplens.org/datasets/movielens/ датасет любого размера. Определите какому фильму было выставлено больше всего оценок 5.0."
   ]
  },
  {
   "cell_type": "code",
   "execution_count": 2,
   "metadata": {},
   "outputs": [],
   "source": [
    "import pandas as pd"
   ]
  },
  {
   "cell_type": "code",
   "execution_count": 45,
   "metadata": {},
   "outputs": [
    {
     "data": {
      "text/plain": [
       "Shawshank Redemption, The (1994)    0.010949\n",
       "Name: title, dtype: float64"
      ]
     },
     "execution_count": 45,
     "metadata": {},
     "output_type": "execute_result"
    }
   ],
   "source": [
    "movies = pd.read_csv('movies.csv')\n",
    "ratings = pd.read_csv('ratings.csv')\n",
    "joined = ratings.merge(movies, on='movieId', how='inner')\n",
    "result = joined[joined.rating == 5.0 ]['title'].value_counts(normalize=True).head(1)\n",
    "result"
   ]
  },
  {
   "cell_type": "markdown",
   "metadata": {},
   "source": [
    "# Задание 2\n",
    "По данным файла power.csv посчитайте суммарное потребление стран Прибалтики (Латвия, Литва и Эстония) категорий 4, 12 и 21 за период с 2005 по 2010 года. Не учитывайте в расчетах отрицательные значения quantity."
   ]
  },
  {
   "cell_type": "code",
   "execution_count": 60,
   "metadata": {},
   "outputs": [
    {
     "data": {
      "text/plain": [
       "240580.0"
      ]
     },
     "execution_count": 60,
     "metadata": {},
     "output_type": "execute_result"
    }
   ],
   "source": [
    "power = pd.read_csv('power.csv')\n",
    "power[((power.country.isin(['Latvia','Lithuania','Estonia'])) & (power.category.isin([4,12,21])) \n",
    "       & ((power.year >= 2005) & (power.year <= 2010)) & (power.quantity > 0))].quantity.sum()"
   ]
  },
  {
   "cell_type": "markdown",
   "metadata": {},
   "source": [
    "# Задание 3\n",
    "Выберите страницу любого сайта с табличными данными. Импортируйте таблицы в pandas dataframe."
   ]
  },
  {
   "cell_type": "code",
   "execution_count": 66,
   "metadata": {},
   "outputs": [
    {
     "data": {
      "text/html": [
       "<div>\n",
       "<style scoped>\n",
       "    .dataframe tbody tr th:only-of-type {\n",
       "        vertical-align: middle;\n",
       "    }\n",
       "\n",
       "    .dataframe tbody tr th {\n",
       "        vertical-align: top;\n",
       "    }\n",
       "\n",
       "    .dataframe thead th {\n",
       "        text-align: right;\n",
       "    }\n",
       "</style>\n",
       "<table border=\"1\" class=\"dataframe\">\n",
       "  <thead>\n",
       "    <tr style=\"text-align: right;\">\n",
       "      <th></th>\n",
       "      <th>Валюта</th>\n",
       "      <th>Покупка</th>\n",
       "      <th>Продажа</th>\n",
       "      <th>Курс ЦБ 04.02.2020</th>\n",
       "    </tr>\n",
       "  </thead>\n",
       "  <tbody>\n",
       "    <tr>\n",
       "      <td>0</td>\n",
       "      <td>Доллар</td>\n",
       "      <td>63.40</td>\n",
       "      <td>63.85</td>\n",
       "      <td>63.9091</td>\n",
       "    </tr>\n",
       "    <tr>\n",
       "      <td>1</td>\n",
       "      <td>Евро</td>\n",
       "      <td>70.35</td>\n",
       "      <td>70.50</td>\n",
       "      <td>70.7921</td>\n",
       "    </tr>\n",
       "    <tr>\n",
       "      <td>2</td>\n",
       "      <td>Фунт</td>\n",
       "      <td>82.19</td>\n",
       "      <td>83.49</td>\n",
       "      <td>83.9766</td>\n",
       "    </tr>\n",
       "    <tr>\n",
       "      <td>3</td>\n",
       "      <td>Бел. рубль</td>\n",
       "      <td>26.63</td>\n",
       "      <td>32.75</td>\n",
       "      <td>29.7279</td>\n",
       "    </tr>\n",
       "    <tr>\n",
       "      <td>4</td>\n",
       "      <td>Тенге100</td>\n",
       "      <td>11.53</td>\n",
       "      <td>21.88</td>\n",
       "      <td>16.7751</td>\n",
       "    </tr>\n",
       "    <tr>\n",
       "      <td>5</td>\n",
       "      <td>Юань</td>\n",
       "      <td>8.97</td>\n",
       "      <td>9.17</td>\n",
       "      <td>9.0974</td>\n",
       "    </tr>\n",
       "    <tr>\n",
       "      <td>6</td>\n",
       "      <td>Франк</td>\n",
       "      <td>65.46</td>\n",
       "      <td>66.46</td>\n",
       "      <td>66.3164</td>\n",
       "    </tr>\n",
       "    <tr>\n",
       "      <td>7</td>\n",
       "      <td>Йена100</td>\n",
       "      <td>57.42</td>\n",
       "      <td>60.10</td>\n",
       "      <td>58.8943</td>\n",
       "    </tr>\n",
       "  </tbody>\n",
       "</table>\n",
       "</div>"
      ],
      "text/plain": [
       "       Валюта  Покупка  Продажа  Курс ЦБ 04.02.2020\n",
       "0      Доллар    63.40    63.85             63.9091\n",
       "1        Евро    70.35    70.50             70.7921\n",
       "2        Фунт    82.19    83.49             83.9766\n",
       "3  Бел. рубль    26.63    32.75             29.7279\n",
       "4    Тенге100    11.53    21.88             16.7751\n",
       "5        Юань     8.97     9.17              9.0974\n",
       "6       Франк    65.46    66.46             66.3164\n",
       "7     Йена100    57.42    60.10             58.8943"
      ]
     },
     "execution_count": 66,
     "metadata": {},
     "output_type": "execute_result"
    }
   ],
   "source": [
    "page_url = 'https://ru.myfin.by/currency/rostov-na-donu'\n",
    "df = pd.read_html(page_url, attrs = {'class': 'table-best'}, encoding='utf-8')\n",
    "pd.DataFrame(df[0])\n"
   ]
  },
  {
   "cell_type": "code",
   "execution_count": null,
   "metadata": {},
   "outputs": [],
   "source": []
  }
 ],
 "metadata": {
  "kernelspec": {
   "display_name": "Python 3",
   "language": "python",
   "name": "python3"
  },
  "language_info": {
   "codemirror_mode": {
    "name": "ipython",
    "version": 3
   },
   "file_extension": ".py",
   "mimetype": "text/x-python",
   "name": "python",
   "nbconvert_exporter": "python",
   "pygments_lexer": "ipython3",
   "version": "3.7.4"
  }
 },
 "nbformat": 4,
 "nbformat_minor": 2
}
